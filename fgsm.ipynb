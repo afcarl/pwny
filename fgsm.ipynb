{
 "cells": [
  {
   "cell_type": "code",
   "execution_count": 1,
   "metadata": {},
   "outputs": [],
   "source": [
    "\"\"\"\n",
    "This tutorial shows how to generate some simple adversarial examples\n",
    "and train a model using adversarial training using nothing but pure\n",
    "TensorFlow.\n",
    "It is very similar to mnist_tutorial_keras_tf.py, which does the same\n",
    "thing but with a dependence on keras.\n",
    "\"\"\"\n",
    "from __future__ import absolute_import\n",
    "from __future__ import division\n",
    "from __future__ import print_function\n",
    "from __future__ import unicode_literals\n",
    "\n",
    "import numpy as np\n",
    "import tensorflow as tf\n",
    "from tensorflow.python.platform import app\n",
    "from tensorflow.python.platform import flags\n",
    "import logging\n",
    "\n",
    "from cleverhans.utils_mnist import data_mnist\n",
    "from cleverhans.utils_tf import model_train, model_eval\n",
    "from cleverhans.attacks import FastGradientMethod\n",
    "from tutorials.tutorial_models import make_basic_cnn\n",
    "from cleverhans.utils import AccuracyReport, set_log_level\n",
    "\n",
    "import os\n",
    "import os.path as osp"
   ]
  },
  {
   "cell_type": "code",
   "execution_count": 2,
   "metadata": {
    "collapsed": true
   },
   "outputs": [],
   "source": [
    "\"\"\"\n",
    "MNIST cleverhans tutorial\n",
    ":param train_start: index of first training set example\n",
    ":param train_end: index of last training set example\n",
    ":param test_start: index of first test set example\n",
    ":param test_end: index of last test set example\n",
    ":param nb_epochs: number of epochs to train model\n",
    ":param batch_size: size of training batches\n",
    ":param learning_rate: learning rate for training\n",
    ":param testing: if true, complete an AccuracyReport for unit tests\n",
    "  to verify that performance is adequate\n",
    ":param clean_train: if true, train on clean examples\n",
    "\"\"\"\n",
    "\n",
    "train_start=0\n",
    "train_end=60000\n",
    "test_start=0\n",
    "test_end=10000\n",
    "\n",
    "# Training parameters\n",
    "nb_epochs=2 # 6\n",
    "batch_size=128\n",
    "learning_rate=0.001"
   ]
  },
  {
   "cell_type": "code",
   "execution_count": 3,
   "metadata": {},
   "outputs": [
    {
     "name": "stdout",
     "output_type": "stream",
     "text": [
      "Extracting /tmp/train-images-idx3-ubyte.gz\n",
      "Extracting /tmp/train-labels-idx1-ubyte.gz\n",
      "Extracting /tmp/t10k-images-idx3-ubyte.gz\n",
      "Extracting /tmp/t10k-labels-idx1-ubyte.gz\n",
      "X_train shape: (60000, 28, 28, 1)\n",
      "X_test shape: (10000, 28, 28, 1)\n"
     ]
    }
   ],
   "source": [
    "# Object used to keep track of (and return) key accuracies\n",
    "report = AccuracyReport()\n",
    "\n",
    "# Set TF random seed to improve reproducibility\n",
    "tf.set_random_seed(1234)\n",
    "\n",
    "# Set logging level to see debug information\n",
    "set_log_level(logging.DEBUG)\n",
    "\n",
    "# Create TF session\n",
    "sess = tf.Session()\n",
    "\n",
    "# Get MNIST test data\n",
    "X_train, Y_train, X_test, Y_test = data_mnist(\n",
    "    train_start=train_start,\n",
    "    train_end=train_end,\n",
    "    test_start=test_start,\n",
    "    test_end=test_end)\n",
    "\n",
    "# Use label smoothing (don't be too confident)\n",
    "assert Y_train.shape[1] == 10\n",
    "label_smooth = .1\n",
    "Y_train = Y_train.clip(label_smooth / 9., 1. - label_smooth)\n",
    "\n",
    "# Define input TF placeholder\n",
    "x = tf.placeholder(tf.float32, shape=(None, 28, 28, 1))\n",
    "y = tf.placeholder(tf.float32, shape=(None, 10))\n",
    "\n",
    "model_path = \"models/mnist\"\n",
    "\n",
    "# Train an MNIST model\n",
    "train_params = {\n",
    "    'nb_epochs': nb_epochs,\n",
    "    'batch_size': batch_size,\n",
    "    'learning_rate': learning_rate\n",
    "}"
   ]
  },
  {
   "cell_type": "markdown",
   "metadata": {},
   "source": [
    "## Train our basic MNIST model"
   ]
  },
  {
   "cell_type": "code",
   "execution_count": 4,
   "metadata": {},
   "outputs": [
    {
     "name": "stderr",
     "output_type": "stream",
     "text": [
      "[INFO 2017-08-18 19:11:31,288 cleverhans] Epoch 0 took 5.847287654876709 seconds\n"
     ]
    },
    {
     "name": "stdout",
     "output_type": "stream",
     "text": [
      "Test accuracy on legitimate examples: 0.9871\n"
     ]
    },
    {
     "name": "stderr",
     "output_type": "stream",
     "text": [
      "[INFO 2017-08-18 19:11:36,752 cleverhans] Epoch 1 took 5.19570779800415 seconds\n"
     ]
    },
    {
     "name": "stdout",
     "output_type": "stream",
     "text": [
      "Test accuracy on legitimate examples: 0.9903\n"
     ]
    },
    {
     "name": "stderr",
     "output_type": "stream",
     "text": [
      "[INFO 2017-08-18 19:11:42,231 cleverhans] Epoch 2 took 5.212144374847412 seconds\n"
     ]
    },
    {
     "name": "stdout",
     "output_type": "stream",
     "text": [
      "Test accuracy on legitimate examples: 0.9913\n"
     ]
    },
    {
     "name": "stderr",
     "output_type": "stream",
     "text": [
      "[INFO 2017-08-18 19:11:47,728 cleverhans] Epoch 3 took 5.231789588928223 seconds\n"
     ]
    },
    {
     "name": "stdout",
     "output_type": "stream",
     "text": [
      "Test accuracy on legitimate examples: 0.9917\n"
     ]
    },
    {
     "name": "stderr",
     "output_type": "stream",
     "text": [
      "[INFO 2017-08-18 19:11:53,193 cleverhans] Epoch 4 took 5.199890613555908 seconds\n"
     ]
    },
    {
     "name": "stdout",
     "output_type": "stream",
     "text": [
      "Test accuracy on legitimate examples: 0.9918\n"
     ]
    },
    {
     "name": "stderr",
     "output_type": "stream",
     "text": [
      "[INFO 2017-08-18 19:11:58,674 cleverhans] Epoch 5 took 5.218459606170654 seconds\n",
      "[INFO 2017-08-18 19:11:58,941 cleverhans] Completed model training.\n"
     ]
    },
    {
     "name": "stdout",
     "output_type": "stream",
     "text": [
      "Test accuracy on legitimate examples: 0.9918\n",
      "Test accuracy on adversarial examples: 0.0325\n",
      "\n",
      "Completed training of model on clean data\n"
     ]
    }
   ],
   "source": [
    "model = make_basic_cnn()\n",
    "preds = model.get_probs(x)\n",
    "\n",
    "def evaluate():\n",
    "    # Evaluate the accuracy of the MNIST model on legitimate test\n",
    "    # examples\n",
    "    eval_params = {'batch_size': batch_size}\n",
    "    acc = model_eval(sess, x, y, preds, X_test, Y_test, args=eval_params)\n",
    "    report.clean_train_clean_eval = acc\n",
    "    assert X_test.shape[0] == test_end - test_start, X_test.shape\n",
    "    print('Test accuracy on legitimate examples: %0.4f' % acc)\n",
    "model_train(sess, x, y, preds, X_train, Y_train, evaluate=evaluate,\n",
    "            args=train_params)\n",
    "\n",
    "# # Calculate training error\n",
    "# eval_params = {'batch_size': batch_size}\n",
    "# acc = model_eval(sess, x, y, preds, X_train, Y_train, args=eval_params)\n",
    "# report.train_clean_train_clean_eval = acc\n",
    "\n",
    "# Initialize the Fast Gradient Sign Method (FGSM) attack object and\n",
    "# graph\n",
    "fgsm = FastGradientMethod(model, sess=sess)\n",
    "\n",
    "adv_x = fgsm.generate(x, eps=0.3)\n",
    "preds_adv = model.get_probs(adv_x)\n",
    "\n",
    "# Evaluate the accuracy of the MNIST model on adversarial examples\n",
    "eval_par = {'batch_size': batch_size}\n",
    "acc = model_eval(sess, x, y, preds_adv, X_test, Y_test, args=eval_par)\n",
    "print('Test accuracy on adversarial examples: %0.4f\\n' % acc)\n",
    "report.clean_train_adv_eval = acc\n",
    "\n",
    "# # Calculate training error\n",
    "# eval_par = {'batch_size': batch_size}\n",
    "# acc = model_eval(sess, x, y, preds_adv, X_train,\n",
    "#                  Y_train, args=eval_par)\n",
    "# report.train_clean_train_adv_eval = acc\n",
    "    \n",
    "print(\"Completed training of model on clean data\")"
   ]
  },
  {
   "cell_type": "markdown",
   "metadata": {},
   "source": [
    "## Render some of the adversarial examples"
   ]
  },
  {
   "cell_type": "code",
   "execution_count": 8,
   "metadata": {
    "collapsed": true
   },
   "outputs": [],
   "source": [
    "% matplotlib inline"
   ]
  },
  {
   "cell_type": "code",
   "execution_count": 9,
   "metadata": {
    "collapsed": true
   },
   "outputs": [],
   "source": [
    "import matplotlib.pyplot as plt"
   ]
  },
  {
   "cell_type": "code",
   "execution_count": 85,
   "metadata": {},
   "outputs": [],
   "source": [
    "# Plotting helpers\n",
    "def plots(ims, figsize=(12,6), rows=1, interp=False, titles=None, cmap='gray'):\n",
    "    \"\"\"Plot grayscale images\"\"\"\n",
    "    f = plt.figure(figsize=figsize)\n",
    "    cols = len(ims)//rows if len(ims) % 2 == 0 else len(ims)//rows + 1\n",
    "    for i in range(len(ims)):\n",
    "        sp = f.add_subplot(rows, cols, i+1)\n",
    "        sp.axis('Off')\n",
    "        if titles is not None:\n",
    "            sp.set_title(titles[i], fontsize=16)\n",
    "        plt.imshow(ims[i].squeeze(-1), cmap=cmap, interpolation=(None if interp else 'none'))\n",
    "        \n",
    "def plots_with_preds(ims, model=model):\n",
    "    \"\"\"Use our model to get predictions and plot them as the titles\"\"\"\n",
    "    preds = model.get_probs(x)\n",
    "    clean_preds = preds.eval(session=sess, feed_dict={x: ims})\n",
    "    titles = [\"%s (%.2f)\" % (np.argmax(clean_pred), clean_pred[np.argmax(clean_pred)])\n",
    "              for clean_pred in clean_preds]\n",
    "    plots(ims, titles=titles)"
   ]
  },
  {
   "cell_type": "code",
   "execution_count": 89,
   "metadata": {},
   "outputs": [
    {
     "data": {
      "image/png": "[encoded data removed]",
      "text/plain": [
       "<matplotlib.figure.Figure at 0x7f054cd83b00>"
      ]
     },
     "metadata": {},
     "output_type": "display_data"
    }
   ],
   "source": [
    "clean_x = X_train[20:25] # Take a sample\n",
    "plots_with_preds(clean_x)"
   ]
  },
  {
   "cell_type": "code",
   "execution_count": 90,
   "metadata": {},
   "outputs": [
    {
     "data": {
      "image/png": "[encoded data removed]",
      "text/plain": [
       "<matplotlib.figure.Figure at 0x7f055eb7cc88>"
      ]
     },
     "metadata": {},
     "output_type": "display_data"
    }
   ],
   "source": [
    "adv_x = fgsm.generate(x, eps=0.1)\n",
    "np_adv_x = adv_x.eval(session=sess, feed_dict={x: clean_x})\n",
    "plots_with_preds(np_adv_x)"
   ]
  },
  {
   "cell_type": "markdown",
   "metadata": {},
   "source": [
    "## Repeat the process, using adversarial training"
   ]
  },
  {
   "cell_type": "code",
   "execution_count": 11,
   "metadata": {},
   "outputs": [
    {
     "name": "stdout",
     "output_type": "stream",
     "text": [
      "Extracting /tmp/train-images-idx3-ubyte.gz\n",
      "Extracting /tmp/train-labels-idx1-ubyte.gz\n",
      "Extracting /tmp/t10k-images-idx3-ubyte.gz\n",
      "Extracting /tmp/t10k-labels-idx1-ubyte.gz\n",
      "X_train shape: (60000, 28, 28, 1)\n",
      "X_test shape: (10000, 28, 28, 1)\n"
     ]
    },
    {
     "name": "stderr",
     "output_type": "stream",
     "text": [
      "[INFO 2017-08-18 18:46:29,757 cleverhans] Epoch 0 took 5.364181995391846 seconds\n"
     ]
    },
    {
     "name": "stdout",
     "output_type": "stream",
     "text": [
      "Test accuracy on legitimate examples: 0.9888\n"
     ]
    },
    {
     "name": "stderr",
     "output_type": "stream",
     "text": [
      "[INFO 2017-08-18 18:46:35,291 cleverhans] Epoch 1 took 5.226948022842407 seconds\n"
     ]
    },
    {
     "name": "stdout",
     "output_type": "stream",
     "text": [
      "Test accuracy on legitimate examples: 0.9911\n"
     ]
    },
    {
     "name": "stderr",
     "output_type": "stream",
     "text": [
      "[INFO 2017-08-18 18:46:40,867 cleverhans] Epoch 2 took 5.26372766494751 seconds\n"
     ]
    },
    {
     "name": "stdout",
     "output_type": "stream",
     "text": [
      "Test accuracy on legitimate examples: 0.9919\n"
     ]
    },
    {
     "name": "stderr",
     "output_type": "stream",
     "text": [
      "[INFO 2017-08-18 18:46:46,484 cleverhans] Epoch 3 took 5.297043561935425 seconds\n"
     ]
    },
    {
     "name": "stdout",
     "output_type": "stream",
     "text": [
      "Test accuracy on legitimate examples: 0.9923\n"
     ]
    },
    {
     "name": "stderr",
     "output_type": "stream",
     "text": [
      "[INFO 2017-08-18 18:46:52,065 cleverhans] Epoch 4 took 5.258272886276245 seconds\n"
     ]
    },
    {
     "name": "stdout",
     "output_type": "stream",
     "text": [
      "Test accuracy on legitimate examples: 0.9921\n"
     ]
    },
    {
     "name": "stderr",
     "output_type": "stream",
     "text": [
      "[INFO 2017-08-18 18:46:57,622 cleverhans] Epoch 5 took 5.243191719055176 seconds\n",
      "[INFO 2017-08-18 18:46:57,937 cleverhans] Completed model training.\n"
     ]
    },
    {
     "name": "stdout",
     "output_type": "stream",
     "text": [
      "Test accuracy on legitimate examples: 0.9921\n",
      "Test accuracy on adversarial examples: 0.0315\n",
      "\n",
      "Repeating the process, using adversarial training\n"
     ]
    },
    {
     "name": "stderr",
     "output_type": "stream",
     "text": [
      "[INFO 2017-08-18 18:47:12,434 cleverhans] Epoch 0 took 12.841004610061646 seconds\n"
     ]
    },
    {
     "name": "stdout",
     "output_type": "stream",
     "text": [
      "Test accuracy on legitimate examples: 0.9843\n",
      "Test accuracy on adversarial examples: 0.8338\n"
     ]
    },
    {
     "name": "stderr",
     "output_type": "stream",
     "text": [
      "[INFO 2017-08-18 18:47:26,623 cleverhans] Epoch 1 took 12.865450859069824 seconds\n"
     ]
    },
    {
     "name": "stdout",
     "output_type": "stream",
     "text": [
      "Test accuracy on legitimate examples: 0.9887\n",
      "Test accuracy on adversarial examples: 0.9132\n"
     ]
    },
    {
     "name": "stderr",
     "output_type": "stream",
     "text": [
      "[INFO 2017-08-18 18:47:40,846 cleverhans] Epoch 2 took 12.928793907165527 seconds\n"
     ]
    },
    {
     "name": "stdout",
     "output_type": "stream",
     "text": [
      "Test accuracy on legitimate examples: 0.9907\n",
      "Test accuracy on adversarial examples: 0.9528\n"
     ]
    },
    {
     "name": "stderr",
     "output_type": "stream",
     "text": [
      "[INFO 2017-08-18 18:47:55,091 cleverhans] Epoch 3 took 12.922166109085083 seconds\n"
     ]
    },
    {
     "name": "stdout",
     "output_type": "stream",
     "text": [
      "Test accuracy on legitimate examples: 0.9909\n",
      "Test accuracy on adversarial examples: 0.9661\n"
     ]
    },
    {
     "name": "stderr",
     "output_type": "stream",
     "text": [
      "[INFO 2017-08-18 18:48:09,261 cleverhans] Epoch 4 took 12.88106918334961 seconds\n"
     ]
    },
    {
     "name": "stdout",
     "output_type": "stream",
     "text": [
      "Test accuracy on legitimate examples: 0.9912\n",
      "Test accuracy on adversarial examples: 0.9745\n"
     ]
    },
    {
     "name": "stderr",
     "output_type": "stream",
     "text": [
      "[INFO 2017-08-18 18:48:23,448 cleverhans] Epoch 5 took 12.87917971611023 seconds\n"
     ]
    },
    {
     "name": "stdout",
     "output_type": "stream",
     "text": [
      "Test accuracy on legitimate examples: 0.9921\n"
     ]
    },
    {
     "name": "stderr",
     "output_type": "stream",
     "text": [
      "[INFO 2017-08-18 18:48:24,773 cleverhans] Completed model training.\n"
     ]
    },
    {
     "name": "stdout",
     "output_type": "stream",
     "text": [
      "Test accuracy on adversarial examples: 0.9779\n"
     ]
    },
    {
     "ename": "SyntaxError",
     "evalue": "'return' outside function (<ipython-input-11-30e3d9483b2c>, line 132)",
     "output_type": "error",
     "traceback": [
      "\u001b[0;36m  File \u001b[0;32m\"<ipython-input-11-30e3d9483b2c>\"\u001b[0;36m, line \u001b[0;32m132\u001b[0m\n\u001b[0;31m    return report\u001b[0m\n\u001b[0m                 ^\u001b[0m\n\u001b[0;31mSyntaxError\u001b[0m\u001b[0;31m:\u001b[0m 'return' outside function\n"
     ]
    }
   ],
   "source": [
    "# Redefine TF model graph\n",
    "model_2 = make_basic_cnn()\n",
    "preds_2 = model_2(x)\n",
    "fgsm2 = FastGradientMethod(model_2, sess=sess)\n",
    "preds_2_adv = model_2(fgsm2.generate(x, eps=0.3))\n",
    "\n",
    "def evaluate_2():\n",
    "    # Accuracy of adversarially trained model on legitimate test inputs\n",
    "    eval_params = {'batch_size': batch_size}\n",
    "    accuracy = model_eval(sess, x, y, preds_2, X_test, Y_test,\n",
    "                          args=eval_params)\n",
    "    print('Test accuracy on legitimate examples: %0.4f' % accuracy)\n",
    "    report.adv_train_clean_eval = accuracy\n",
    "\n",
    "    # Accuracy of the adversarially trained model on adversarial examples\n",
    "    accuracy = model_eval(sess, x, y, preds_2_adv, X_test,\n",
    "                          Y_test, args=eval_params)\n",
    "    print('Test accuracy on adversarial examples: %0.4f' % accuracy)\n",
    "    report.adv_train_adv_eval = accuracy\n",
    "\n",
    "# Perform and evaluate adversarial training\n",
    "model_train(sess, x, y, preds_2, X_train, Y_train,\n",
    "            predictions_adv=preds_2_adv, evaluate=evaluate_2,\n",
    "            args=train_params)\n",
    "\n",
    "# Calculate training errors\n",
    "if testing:\n",
    "    eval_params = {'batch_size': batch_size}\n",
    "    accuracy = model_eval(sess, x, y, preds_2, X_train, Y_train,\n",
    "                          args=eval_params)\n",
    "    report.train_adv_train_clean_eval = accuracy\n",
    "    accuracy = model_eval(sess, x, y, preds_2_adv, X_train,\n",
    "                          Y_train, args=eval_params)\n",
    "    report.train_adv_train_adv_eval = accuracy\n",
    "\n",
    "return report"
   ]
  },
  {
   "cell_type": "code",
   "execution_count": null,
   "metadata": {
    "collapsed": true
   },
   "outputs": [],
   "source": []
  }
 ],
 "metadata": {
  "kernelspec": {
   "display_name": "Python 3",
   "language": "python",
   "name": "python3"
  },
  "language_info": {
   "codemirror_mode": {
    "name": "ipython",
    "version": 3
   },
   "file_extension": ".py",
   "mimetype": "text/x-python",
   "name": "python",
   "nbconvert_exporter": "python",
   "pygments_lexer": "ipython3",
   "version": "3.5.3"
  }
 },
 "nbformat": 4,
 "nbformat_minor": 2
}
